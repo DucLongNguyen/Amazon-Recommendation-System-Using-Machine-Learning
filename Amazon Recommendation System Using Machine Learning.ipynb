{
 "cells": [
  {
   "cell_type": "markdown",
   "metadata": {
    "vscode": {
     "languageId": "html"
    }
   },
   "source": [
    "<div style=\"text-align: center;\">\n",
    "  <h1>Project Big Data Management</h1>\n",
    "  <h3>Amazon Recommendation System Using Machine Learning</h3>\n",
    "  <h3>Nhu Minh Quang Nguyen</h3>\n",
    "  <h3>Duc Long Nguyen</h3>\n",
    "</div>\n"
   ]
  },
  {
   "cell_type": "markdown",
   "metadata": {},
   "source": [
    "### Import modules"
   ]
  },
  {
   "cell_type": "code",
   "execution_count": 1,
   "metadata": {},
   "outputs": [],
   "source": [
    "import pandas as pd\n",
    "import matplotlib.pyplot as plt\n",
    "\n",
    "\n",
    "dataset = pd.read_csv(\"amazon-groceries.csv\")\n",
    "  "
   ]
  },
  {
   "cell_type": "markdown",
   "metadata": {},
   "source": [
    "### Dataset "
   ]
  },
  {
   "cell_type": "code",
   "execution_count": 2,
   "metadata": {},
   "outputs": [
    {
     "data": {
      "text/html": [
       "<div>\n",
       "<style scoped>\n",
       "    .dataframe tbody tr th:only-of-type {\n",
       "        vertical-align: middle;\n",
       "    }\n",
       "\n",
       "    .dataframe tbody tr th {\n",
       "        vertical-align: top;\n",
       "    }\n",
       "\n",
       "    .dataframe thead th {\n",
       "        text-align: right;\n",
       "    }\n",
       "</style>\n",
       "<table border=\"1\" class=\"dataframe\">\n",
       "  <thead>\n",
       "    <tr style=\"text-align: right;\">\n",
       "      <th></th>\n",
       "      <th>Member_number</th>\n",
       "      <th>Date</th>\n",
       "      <th>itemDescription</th>\n",
       "    </tr>\n",
       "  </thead>\n",
       "  <tbody>\n",
       "    <tr>\n",
       "      <th>0</th>\n",
       "      <td>1808</td>\n",
       "      <td>21-07-2015</td>\n",
       "      <td>tropical fruit</td>\n",
       "    </tr>\n",
       "    <tr>\n",
       "      <th>1</th>\n",
       "      <td>2552</td>\n",
       "      <td>05-01-2015</td>\n",
       "      <td>whole milk</td>\n",
       "    </tr>\n",
       "    <tr>\n",
       "      <th>2</th>\n",
       "      <td>2300</td>\n",
       "      <td>19-09-2015</td>\n",
       "      <td>pip fruit</td>\n",
       "    </tr>\n",
       "    <tr>\n",
       "      <th>3</th>\n",
       "      <td>1187</td>\n",
       "      <td>12-12-2015</td>\n",
       "      <td>other vegetables</td>\n",
       "    </tr>\n",
       "    <tr>\n",
       "      <th>4</th>\n",
       "      <td>3037</td>\n",
       "      <td>01-02-2015</td>\n",
       "      <td>whole milk</td>\n",
       "    </tr>\n",
       "    <tr>\n",
       "      <th>5</th>\n",
       "      <td>4941</td>\n",
       "      <td>14-02-2015</td>\n",
       "      <td>rolls/buns</td>\n",
       "    </tr>\n",
       "    <tr>\n",
       "      <th>6</th>\n",
       "      <td>4501</td>\n",
       "      <td>08-05-2015</td>\n",
       "      <td>other vegetables</td>\n",
       "    </tr>\n",
       "    <tr>\n",
       "      <th>7</th>\n",
       "      <td>3803</td>\n",
       "      <td>23-12-2015</td>\n",
       "      <td>pot plants</td>\n",
       "    </tr>\n",
       "    <tr>\n",
       "      <th>8</th>\n",
       "      <td>2762</td>\n",
       "      <td>20-03-2015</td>\n",
       "      <td>whole milk</td>\n",
       "    </tr>\n",
       "    <tr>\n",
       "      <th>9</th>\n",
       "      <td>4119</td>\n",
       "      <td>12-02-2015</td>\n",
       "      <td>tropical fruit</td>\n",
       "    </tr>\n",
       "  </tbody>\n",
       "</table>\n",
       "</div>"
      ],
      "text/plain": [
       "   Member_number        Date   itemDescription\n",
       "0           1808  21-07-2015    tropical fruit\n",
       "1           2552  05-01-2015        whole milk\n",
       "2           2300  19-09-2015         pip fruit\n",
       "3           1187  12-12-2015  other vegetables\n",
       "4           3037  01-02-2015        whole milk\n",
       "5           4941  14-02-2015        rolls/buns\n",
       "6           4501  08-05-2015  other vegetables\n",
       "7           3803  23-12-2015        pot plants\n",
       "8           2762  20-03-2015        whole milk\n",
       "9           4119  12-02-2015    tropical fruit"
      ]
     },
     "execution_count": 2,
     "metadata": {},
     "output_type": "execute_result"
    }
   ],
   "source": [
    "dataset.head(10)"
   ]
  },
  {
   "cell_type": "markdown",
   "metadata": {},
   "source": [
    "### Dataset overview"
   ]
  },
  {
   "cell_type": "code",
   "execution_count": 3,
   "metadata": {},
   "outputs": [
    {
     "data": {
      "text/plain": [
       "(38765, 3)"
      ]
     },
     "execution_count": 3,
     "metadata": {},
     "output_type": "execute_result"
    }
   ],
   "source": [
    "dataset.shape"
   ]
  },
  {
   "cell_type": "code",
   "execution_count": 4,
   "metadata": {},
   "outputs": [
    {
     "data": {
      "text/html": [
       "<div>\n",
       "<style scoped>\n",
       "    .dataframe tbody tr th:only-of-type {\n",
       "        vertical-align: middle;\n",
       "    }\n",
       "\n",
       "    .dataframe tbody tr th {\n",
       "        vertical-align: top;\n",
       "    }\n",
       "\n",
       "    .dataframe thead th {\n",
       "        text-align: right;\n",
       "    }\n",
       "</style>\n",
       "<table border=\"1\" class=\"dataframe\">\n",
       "  <thead>\n",
       "    <tr style=\"text-align: right;\">\n",
       "      <th></th>\n",
       "      <th>Member_number</th>\n",
       "    </tr>\n",
       "  </thead>\n",
       "  <tbody>\n",
       "    <tr>\n",
       "      <th>count</th>\n",
       "      <td>38765.000000</td>\n",
       "    </tr>\n",
       "    <tr>\n",
       "      <th>mean</th>\n",
       "      <td>3003.641868</td>\n",
       "    </tr>\n",
       "    <tr>\n",
       "      <th>std</th>\n",
       "      <td>1153.611031</td>\n",
       "    </tr>\n",
       "    <tr>\n",
       "      <th>min</th>\n",
       "      <td>1000.000000</td>\n",
       "    </tr>\n",
       "    <tr>\n",
       "      <th>25%</th>\n",
       "      <td>2002.000000</td>\n",
       "    </tr>\n",
       "    <tr>\n",
       "      <th>50%</th>\n",
       "      <td>3005.000000</td>\n",
       "    </tr>\n",
       "    <tr>\n",
       "      <th>75%</th>\n",
       "      <td>4007.000000</td>\n",
       "    </tr>\n",
       "    <tr>\n",
       "      <th>max</th>\n",
       "      <td>5000.000000</td>\n",
       "    </tr>\n",
       "  </tbody>\n",
       "</table>\n",
       "</div>"
      ],
      "text/plain": [
       "       Member_number\n",
       "count   38765.000000\n",
       "mean     3003.641868\n",
       "std      1153.611031\n",
       "min      1000.000000\n",
       "25%      2002.000000\n",
       "50%      3005.000000\n",
       "75%      4007.000000\n",
       "max      5000.000000"
      ]
     },
     "execution_count": 4,
     "metadata": {},
     "output_type": "execute_result"
    }
   ],
   "source": [
    "dataset.describe()"
   ]
  },
  {
   "cell_type": "markdown",
   "metadata": {},
   "source": [
    "### Sort dataset to find find which member buy together"
   ]
  },
  {
   "cell_type": "code",
   "execution_count": 19,
   "metadata": {},
   "outputs": [
    {
     "data": {
      "text/html": [
       "<div>\n",
       "<style scoped>\n",
       "    .dataframe tbody tr th:only-of-type {\n",
       "        vertical-align: middle;\n",
       "    }\n",
       "\n",
       "    .dataframe tbody tr th {\n",
       "        vertical-align: top;\n",
       "    }\n",
       "\n",
       "    .dataframe thead th {\n",
       "        text-align: right;\n",
       "    }\n",
       "</style>\n",
       "<table border=\"1\" class=\"dataframe\">\n",
       "  <thead>\n",
       "    <tr style=\"text-align: right;\">\n",
       "      <th></th>\n",
       "      <th>Member_number</th>\n",
       "      <th>Date</th>\n",
       "      <th>itemDescription</th>\n",
       "    </tr>\n",
       "  </thead>\n",
       "  <tbody>\n",
       "    <tr>\n",
       "      <th>1629</th>\n",
       "      <td>1000</td>\n",
       "      <td>27-05-2015</td>\n",
       "      <td>soda</td>\n",
       "    </tr>\n",
       "    <tr>\n",
       "      <th>13331</th>\n",
       "      <td>1000</td>\n",
       "      <td>24-06-2014</td>\n",
       "      <td>whole milk</td>\n",
       "    </tr>\n",
       "    <tr>\n",
       "      <th>8395</th>\n",
       "      <td>1000</td>\n",
       "      <td>15-03-2015</td>\n",
       "      <td>whole milk</td>\n",
       "    </tr>\n",
       "    <tr>\n",
       "      <th>4843</th>\n",
       "      <td>1000</td>\n",
       "      <td>15-03-2015</td>\n",
       "      <td>sausage</td>\n",
       "    </tr>\n",
       "    <tr>\n",
       "      <th>17778</th>\n",
       "      <td>1000</td>\n",
       "      <td>27-05-2015</td>\n",
       "      <td>pickled vegetables</td>\n",
       "    </tr>\n",
       "    <tr>\n",
       "      <th>2047</th>\n",
       "      <td>1000</td>\n",
       "      <td>24-07-2015</td>\n",
       "      <td>canned beer</td>\n",
       "    </tr>\n",
       "    <tr>\n",
       "      <th>24544</th>\n",
       "      <td>1000</td>\n",
       "      <td>15-03-2015</td>\n",
       "      <td>yogurt</td>\n",
       "    </tr>\n",
       "    <tr>\n",
       "      <th>18196</th>\n",
       "      <td>1000</td>\n",
       "      <td>24-07-2015</td>\n",
       "      <td>misc. beverages</td>\n",
       "    </tr>\n",
       "    <tr>\n",
       "      <th>32851</th>\n",
       "      <td>1000</td>\n",
       "      <td>24-06-2014</td>\n",
       "      <td>salty snack</td>\n",
       "    </tr>\n",
       "    <tr>\n",
       "      <th>6388</th>\n",
       "      <td>1000</td>\n",
       "      <td>25-11-2015</td>\n",
       "      <td>sausage</td>\n",
       "    </tr>\n",
       "  </tbody>\n",
       "</table>\n",
       "</div>"
      ],
      "text/plain": [
       "       Member_number        Date     itemDescription\n",
       "1629            1000  27-05-2015                soda\n",
       "13331           1000  24-06-2014          whole milk\n",
       "8395            1000  15-03-2015          whole milk\n",
       "4843            1000  15-03-2015             sausage\n",
       "17778           1000  27-05-2015  pickled vegetables\n",
       "2047            1000  24-07-2015         canned beer\n",
       "24544           1000  15-03-2015              yogurt\n",
       "18196           1000  24-07-2015     misc. beverages\n",
       "32851           1000  24-06-2014         salty snack\n",
       "6388            1000  25-11-2015             sausage"
      ]
     },
     "execution_count": 19,
     "metadata": {},
     "output_type": "execute_result"
    }
   ],
   "source": [
    "dataset.sort_values(by=[\"Member_number\"]).head(10)"
   ]
  },
  {
   "cell_type": "code",
   "execution_count": 5,
   "metadata": {},
   "outputs": [],
   "source": [
    "sorted_dataset = dataset.sort_values(by=[\"Member_number\", \"Date\"])"
   ]
  },
  {
   "cell_type": "code",
   "execution_count": 6,
   "metadata": {},
   "outputs": [
    {
     "data": {
      "text/html": [
       "<div>\n",
       "<style scoped>\n",
       "    .dataframe tbody tr th:only-of-type {\n",
       "        vertical-align: middle;\n",
       "    }\n",
       "\n",
       "    .dataframe tbody tr th {\n",
       "        vertical-align: top;\n",
       "    }\n",
       "\n",
       "    .dataframe thead th {\n",
       "        text-align: right;\n",
       "    }\n",
       "</style>\n",
       "<table border=\"1\" class=\"dataframe\">\n",
       "  <thead>\n",
       "    <tr style=\"text-align: right;\">\n",
       "      <th></th>\n",
       "      <th>Member_number</th>\n",
       "      <th>Date</th>\n",
       "      <th>itemDescription</th>\n",
       "    </tr>\n",
       "  </thead>\n",
       "  <tbody>\n",
       "    <tr>\n",
       "      <th>4843</th>\n",
       "      <td>1000</td>\n",
       "      <td>15-03-2015</td>\n",
       "      <td>sausage</td>\n",
       "    </tr>\n",
       "    <tr>\n",
       "      <th>8395</th>\n",
       "      <td>1000</td>\n",
       "      <td>15-03-2015</td>\n",
       "      <td>whole milk</td>\n",
       "    </tr>\n",
       "    <tr>\n",
       "      <th>20992</th>\n",
       "      <td>1000</td>\n",
       "      <td>15-03-2015</td>\n",
       "      <td>semi-finished bread</td>\n",
       "    </tr>\n",
       "    <tr>\n",
       "      <th>24544</th>\n",
       "      <td>1000</td>\n",
       "      <td>15-03-2015</td>\n",
       "      <td>yogurt</td>\n",
       "    </tr>\n",
       "    <tr>\n",
       "      <th>13331</th>\n",
       "      <td>1000</td>\n",
       "      <td>24-06-2014</td>\n",
       "      <td>whole milk</td>\n",
       "    </tr>\n",
       "    <tr>\n",
       "      <th>29480</th>\n",
       "      <td>1000</td>\n",
       "      <td>24-06-2014</td>\n",
       "      <td>pastry</td>\n",
       "    </tr>\n",
       "    <tr>\n",
       "      <th>32851</th>\n",
       "      <td>1000</td>\n",
       "      <td>24-06-2014</td>\n",
       "      <td>salty snack</td>\n",
       "    </tr>\n",
       "    <tr>\n",
       "      <th>2047</th>\n",
       "      <td>1000</td>\n",
       "      <td>24-07-2015</td>\n",
       "      <td>canned beer</td>\n",
       "    </tr>\n",
       "    <tr>\n",
       "      <th>18196</th>\n",
       "      <td>1000</td>\n",
       "      <td>24-07-2015</td>\n",
       "      <td>misc. beverages</td>\n",
       "    </tr>\n",
       "    <tr>\n",
       "      <th>6388</th>\n",
       "      <td>1000</td>\n",
       "      <td>25-11-2015</td>\n",
       "      <td>sausage</td>\n",
       "    </tr>\n",
       "  </tbody>\n",
       "</table>\n",
       "</div>"
      ],
      "text/plain": [
       "       Member_number        Date      itemDescription\n",
       "4843            1000  15-03-2015              sausage\n",
       "8395            1000  15-03-2015           whole milk\n",
       "20992           1000  15-03-2015  semi-finished bread\n",
       "24544           1000  15-03-2015               yogurt\n",
       "13331           1000  24-06-2014           whole milk\n",
       "29480           1000  24-06-2014               pastry\n",
       "32851           1000  24-06-2014          salty snack\n",
       "2047            1000  24-07-2015          canned beer\n",
       "18196           1000  24-07-2015      misc. beverages\n",
       "6388            1000  25-11-2015              sausage"
      ]
     },
     "execution_count": 6,
     "metadata": {},
     "output_type": "execute_result"
    }
   ],
   "source": [
    "sorted_dataset.head(10)"
   ]
  },
  {
   "cell_type": "markdown",
   "metadata": {},
   "source": [
    "### Group items that bought together by: a member buy multiple products on same date"
   ]
  },
  {
   "cell_type": "code",
   "execution_count": 7,
   "metadata": {},
   "outputs": [],
   "source": [
    "grouped_data = sorted_dataset.groupby([\"Member_number\", \"Date\"])['itemDescription'].apply(list).reset_index()\n",
    "grouped_data = grouped_data.rename(columns={\"itemDescription\": \"purchase\"})\n"
   ]
  },
  {
   "cell_type": "markdown",
   "metadata": {},
   "source": [
    "### Now we have a dataset for items that are purchased together"
   ]
  },
  {
   "cell_type": "code",
   "execution_count": 22,
   "metadata": {},
   "outputs": [
    {
     "data": {
      "text/html": [
       "<div>\n",
       "<style scoped>\n",
       "    .dataframe tbody tr th:only-of-type {\n",
       "        vertical-align: middle;\n",
       "    }\n",
       "\n",
       "    .dataframe tbody tr th {\n",
       "        vertical-align: top;\n",
       "    }\n",
       "\n",
       "    .dataframe thead th {\n",
       "        text-align: right;\n",
       "    }\n",
       "</style>\n",
       "<table border=\"1\" class=\"dataframe\">\n",
       "  <thead>\n",
       "    <tr style=\"text-align: right;\">\n",
       "      <th></th>\n",
       "      <th>Member_number</th>\n",
       "      <th>Date</th>\n",
       "      <th>purchase</th>\n",
       "    </tr>\n",
       "  </thead>\n",
       "  <tbody>\n",
       "    <tr>\n",
       "      <th>0</th>\n",
       "      <td>1000</td>\n",
       "      <td>15-03-2015</td>\n",
       "      <td>[sausage, whole milk, semi-finished bread, yog...</td>\n",
       "    </tr>\n",
       "    <tr>\n",
       "      <th>1</th>\n",
       "      <td>1000</td>\n",
       "      <td>24-06-2014</td>\n",
       "      <td>[whole milk, pastry, salty snack]</td>\n",
       "    </tr>\n",
       "    <tr>\n",
       "      <th>2</th>\n",
       "      <td>1000</td>\n",
       "      <td>24-07-2015</td>\n",
       "      <td>[canned beer, misc. beverages]</td>\n",
       "    </tr>\n",
       "    <tr>\n",
       "      <th>3</th>\n",
       "      <td>1000</td>\n",
       "      <td>25-11-2015</td>\n",
       "      <td>[sausage, hygiene articles]</td>\n",
       "    </tr>\n",
       "    <tr>\n",
       "      <th>4</th>\n",
       "      <td>1000</td>\n",
       "      <td>27-05-2015</td>\n",
       "      <td>[soda, pickled vegetables]</td>\n",
       "    </tr>\n",
       "    <tr>\n",
       "      <th>5</th>\n",
       "      <td>1001</td>\n",
       "      <td>02-05-2015</td>\n",
       "      <td>[frankfurter, curd]</td>\n",
       "    </tr>\n",
       "    <tr>\n",
       "      <th>6</th>\n",
       "      <td>1001</td>\n",
       "      <td>07-02-2014</td>\n",
       "      <td>[sausage, whole milk, rolls/buns]</td>\n",
       "    </tr>\n",
       "    <tr>\n",
       "      <th>7</th>\n",
       "      <td>1001</td>\n",
       "      <td>12-12-2014</td>\n",
       "      <td>[whole milk, soda]</td>\n",
       "    </tr>\n",
       "    <tr>\n",
       "      <th>8</th>\n",
       "      <td>1001</td>\n",
       "      <td>14-04-2015</td>\n",
       "      <td>[beef, white bread]</td>\n",
       "    </tr>\n",
       "    <tr>\n",
       "      <th>9</th>\n",
       "      <td>1001</td>\n",
       "      <td>20-01-2015</td>\n",
       "      <td>[frankfurter, soda, whipped/sour cream]</td>\n",
       "    </tr>\n",
       "    <tr>\n",
       "      <th>10</th>\n",
       "      <td>1002</td>\n",
       "      <td>09-02-2014</td>\n",
       "      <td>[frozen vegetables, other vegetables]</td>\n",
       "    </tr>\n",
       "  </tbody>\n",
       "</table>\n",
       "</div>"
      ],
      "text/plain": [
       "    Member_number        Date  \\\n",
       "0            1000  15-03-2015   \n",
       "1            1000  24-06-2014   \n",
       "2            1000  24-07-2015   \n",
       "3            1000  25-11-2015   \n",
       "4            1000  27-05-2015   \n",
       "5            1001  02-05-2015   \n",
       "6            1001  07-02-2014   \n",
       "7            1001  12-12-2014   \n",
       "8            1001  14-04-2015   \n",
       "9            1001  20-01-2015   \n",
       "10           1002  09-02-2014   \n",
       "\n",
       "                                             purchase  \n",
       "0   [sausage, whole milk, semi-finished bread, yog...  \n",
       "1                   [whole milk, pastry, salty snack]  \n",
       "2                      [canned beer, misc. beverages]  \n",
       "3                         [sausage, hygiene articles]  \n",
       "4                          [soda, pickled vegetables]  \n",
       "5                                 [frankfurter, curd]  \n",
       "6                   [sausage, whole milk, rolls/buns]  \n",
       "7                                  [whole milk, soda]  \n",
       "8                                 [beef, white bread]  \n",
       "9             [frankfurter, soda, whipped/sour cream]  \n",
       "10              [frozen vegetables, other vegetables]  "
      ]
     },
     "execution_count": 22,
     "metadata": {},
     "output_type": "execute_result"
    }
   ],
   "source": [
    "grouped_data.head(11)"
   ]
  },
  {
   "cell_type": "markdown",
   "metadata": {},
   "source": [
    "## Get purchase column"
   ]
  },
  {
   "cell_type": "code",
   "execution_count": 9,
   "metadata": {},
   "outputs": [
    {
     "data": {
      "text/plain": [
       "[['rolls/buns', 'curd'],\n",
       " ['semi-finished bread', 'newspapers'],\n",
       " ['butter milk', 'whipped/sour cream'],\n",
       " ['berries', 'onions'],\n",
       " ['other vegetables', 'detergent'],\n",
       " ['tropical fruit',\n",
       "  'berries',\n",
       "  'other vegetables',\n",
       "  'yogurt',\n",
       "  'kitchen towels',\n",
       "  'napkins'],\n",
       " ['bottled water', 'herbs'],\n",
       " ['fruit/vegetable juice', 'onions'],\n",
       " ['soda', 'root vegetables', 'semi-finished bread']]"
      ]
     },
     "execution_count": 9,
     "metadata": {},
     "output_type": "execute_result"
    }
   ],
   "source": [
    "purchases = list(grouped_data.purchase)\n",
    "purchases[-10:-1]"
   ]
  },
  {
   "cell_type": "code",
   "execution_count": 10,
   "metadata": {},
   "outputs": [],
   "source": [
    "from collections import defaultdict\n",
    "from itertools import combinations\n",
    "\n",
    "class Apriori:\n",
    "\n",
    "  def __init__(self):\n",
    "    self.supports = None\n",
    "    self.pair_supports = None\n",
    "\n",
    "  def fit(self, item_lists: list[list[str]]):\n",
    "    single_support = defaultdict(int)\n",
    "    pair_support = defaultdict(int)\n",
    "    triple_support = defaultdict(int)\n",
    "    \n",
    "    for cart in item_lists:\n",
    "      # Calculate single item support\n",
    "      for item in cart:\n",
    "        single_support[item] += 1\n",
    "      \n",
    "      # Calculate pair support\n",
    "      for pair in combinations(cart, 2):\n",
    "        pair = tuple(sorted(pair))  # Ensure pairs are in a consistent order\n",
    "        pair_support[pair] += 1\n",
    "      \n",
    "      for triple in combinations(cart, 3):\n",
    "        try:\n",
    "          tripple = tuple(sorted(pair))\n",
    "          triple_support[triple] += 1\n",
    "        except:\n",
    "          pass \n",
    "        \n",
    "    \n",
    "    # Convert defaultdicts to regular dictionaries\n",
    "    self.supports = dict(single_support)\n",
    "    self.pair_supports = dict(pair_support)\n",
    "    self.tripple_supports = dict(triple_support)\n",
    "  \n",
    "  def confidence(self, a, b):\n",
    "    pair  = tuple(sorted([a, b]))\n",
    "    assert pair in self.pair_supports, \"Can't find\"\n",
    "    return self.pair_supports[pair] /self.supports[b]\n",
    "  \n",
    "  def lift(self, a, b):\n",
    "    return self.confidence(a, b) / self.supports[b]\n",
    "  \n",
    "  def recommend(self, a:str):\n",
    "    \n",
    "    tops = [(0, \"\"), (0, \"\")]  # List of tuples (confidence, item)\n",
    "\n",
    "    a_alike = [] \n",
    "    for b in self.supports.keys():\n",
    "      if b == a:\n",
    "        continue  # Skip the same item\n",
    "      if a.lower() in b.lower():\n",
    "        a_alike.append(b)\n",
    "      try:\n",
    "        conf = self.confidence(a, b)\n",
    "        # Insert in the correct position to keep the list sorted by confidence\n",
    "        if conf > tops[0][0]:\n",
    "            tops = [(conf, b), tops[0]]\n",
    "        elif conf > tops[1][0]:\n",
    "            tops[1] = (conf, b)\n",
    "      except:\n",
    "        pass\n",
    "    \n",
    "    if tops[0][0] != 0:\n",
    "      for conf, item in tops:\n",
    "        print(f\"Item: {item}, Confidence: {conf * 100:.2f}%\")\n",
    "    if tops[0][0] == 0:\n",
    "      message = \"\"\n",
    "      if a_alike:\n",
    "        message = f\"Apri: {a} is not in item list, did you mean: {', '.join(a_alike)}\"\n",
    "      else:\n",
    "        message = f\"Currently we don't have {a}, you can try our other products: whole milk, chocolate, rolls/bun\"\n",
    "      return message\n",
    "      \n",
    "    \n",
    "    return [item for _, item in tops]"
   ]
  },
  {
   "cell_type": "code",
   "execution_count": 11,
   "metadata": {},
   "outputs": [],
   "source": [
    "apriori = Apriori()\n",
    "\n",
    "# train\n",
    "apriori.fit(purchases)\n"
   ]
  },
  {
   "cell_type": "markdown",
   "metadata": {},
   "source": [
    "### Save pretrained model for later usage in personal apps"
   ]
  },
  {
   "cell_type": "code",
   "execution_count": 12,
   "metadata": {},
   "outputs": [],
   "source": [
    "# uncomment the code below to save pretrained model\n",
    "# import dill as pickle\n",
    " \n",
    "# pickle.dump(apriori, open(\"models/apriori-beta.pkl\", 'wb'))"
   ]
  },
  {
   "cell_type": "markdown",
   "metadata": {},
   "source": [
    "### Make predictions"
   ]
  },
  {
   "cell_type": "code",
   "execution_count": 13,
   "metadata": {},
   "outputs": [
    {
     "name": "stdout",
     "output_type": "stream",
     "text": [
      "Item: rubbing alcohol, Confidence: 40.00%\n",
      "Item: brandy, Confidence: 39.47%\n"
     ]
    },
    {
     "data": {
      "text/plain": [
       "['rubbing alcohol', 'brandy']"
      ]
     },
     "execution_count": 13,
     "metadata": {},
     "output_type": "execute_result"
    }
   ],
   "source": [
    "apriori.recommend(\"whole milk\")"
   ]
  },
  {
   "cell_type": "code",
   "execution_count": 14,
   "metadata": {},
   "outputs": [
    {
     "name": "stdout",
     "output_type": "stream",
     "text": [
      "Item: sparkling wine, Confidence: 2.17%\n",
      "Item: butter milk, Confidence: 0.38%\n"
     ]
    },
    {
     "data": {
      "text/plain": [
       "['sparkling wine', 'butter milk']"
      ]
     },
     "execution_count": 14,
     "metadata": {},
     "output_type": "execute_result"
    }
   ],
   "source": [
    "apriori.recommend(\"rubbing alcohol\")"
   ]
  },
  {
   "cell_type": "code",
   "execution_count": 15,
   "metadata": {},
   "outputs": [
    {
     "name": "stdout",
     "output_type": "stream",
     "text": [
      "Item: bags, Confidence: 25.00%\n",
      "Item: artif. sweetener, Confidence: 24.14%\n"
     ]
    },
    {
     "data": {
      "text/plain": [
       "['bags', 'artif. sweetener']"
      ]
     },
     "execution_count": 15,
     "metadata": {},
     "output_type": "execute_result"
    }
   ],
   "source": [
    "apriori.recommend(\"soda\")"
   ]
  },
  {
   "cell_type": "code",
   "execution_count": 16,
   "metadata": {},
   "outputs": [
    {
     "name": "stdout",
     "output_type": "stream",
     "text": [
      "Item: fish, Confidence: 10.34%\n",
      "Item: nut snack, Confidence: 9.09%\n"
     ]
    },
    {
     "data": {
      "text/plain": [
       "['fish', 'nut snack']"
      ]
     },
     "execution_count": 16,
     "metadata": {},
     "output_type": "execute_result"
    }
   ],
   "source": [
    "apriori.recommend(\"bottled beer\")"
   ]
  },
  {
   "cell_type": "code",
   "execution_count": 17,
   "metadata": {},
   "outputs": [
    {
     "name": "stdout",
     "output_type": "stream",
     "text": [
      "Item: whisky, Confidence: 25.00%\n",
      "Item: decalcifier, Confidence: 22.22%\n"
     ]
    },
    {
     "data": {
      "text/plain": [
       "['whisky', 'decalcifier']"
      ]
     },
     "execution_count": 17,
     "metadata": {},
     "output_type": "execute_result"
    }
   ],
   "source": [
    "apriori.recommend(\"root vegetables\")"
   ]
  },
  {
   "cell_type": "code",
   "execution_count": 23,
   "metadata": {},
   "outputs": [
    {
     "name": "stdout",
     "output_type": "stream",
     "text": [
      "Item: salad dressing, Confidence: 16.67%\n",
      "Item: cookware, Confidence: 11.76%\n"
     ]
    },
    {
     "data": {
      "text/plain": [
       "['salad dressing', 'cookware']"
      ]
     },
     "execution_count": 23,
     "metadata": {},
     "output_type": "execute_result"
    }
   ],
   "source": [
    "apriori.recommend(\"frozen vegetables\")"
   ]
  },
  {
   "cell_type": "code",
   "execution_count": null,
   "metadata": {},
   "outputs": [],
   "source": []
  }
 ],
 "metadata": {
  "kernelspec": {
   "display_name": "Projekt_im_Bachelor-LAiTBn4o",
   "language": "python",
   "name": "python3"
  },
  "language_info": {
   "codemirror_mode": {
    "name": "ipython",
    "version": 3
   },
   "file_extension": ".py",
   "mimetype": "text/x-python",
   "name": "python",
   "nbconvert_exporter": "python",
   "pygments_lexer": "ipython3",
   "version": "3.11.0"
  }
 },
 "nbformat": 4,
 "nbformat_minor": 2
}
